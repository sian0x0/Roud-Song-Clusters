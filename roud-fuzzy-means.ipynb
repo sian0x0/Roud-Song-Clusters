{
 "cells": [
  {
   "cell_type": "code",
   "execution_count": null,
   "metadata": {},
   "outputs": [],
   "source": [
    "import pandas as pd\n",
    "import numpy as np\n",
    "import pickle # do i need this if I only use the pandas method?\n",
    "import skfuzzy as fuzz\n",
    "\n",
    "import ipympl\n",
    "#%config InlineBackend.figure_format='retina'\n",
    "\n",
    "import matplotlib as mpl\n",
    "import matplotlib.pyplot as plt\n",
    "import matplotlib_inline\n",
    "import matplotlib.cm as cm\n",
    "import seaborn as sns\n",
    "\n",
    "import warnings \n",
    "warnings.filterwarnings(\"ignore\")"
   ]
  },
  {
   "cell_type": "markdown",
   "metadata": {},
   "source": [
    "Since the t-SNE values provided visible clusters that could not be found via HDBSCAN clustering, I will use t-SNE values to perform fuzzy c-means clustering "
   ]
  },
  {
   "cell_type": "code",
   "execution_count": null,
   "metadata": {},
   "outputs": [],
   "source": [
    "data = pandas.read_pickle(lyrics_dataset.p)\n",
    "\n",
    "# Perform Fuzzy C-Means clustering\n",
    "cntr, u, u0, d, jm, p, fpc = fuzz.cluster.cmeans(\n",
    "    data.T, c=3, m=2, error=0.005, maxiter=1000, init=None\n",
    ")\n",
    "\n",
    "# Retrieve the cluster centers\n",
    "cluster_centers = cntr.T\n",
    "\n",
    "# Retrieve the membership values\n",
    "membership_values = u.T"
   ]
  }
 ],
 "metadata": {
  "kernelspec": {
   "display_name": "nlp_env",
   "language": "python",
   "name": "python3"
  },
  "language_info": {
   "name": "python",
   "version": "3.9.16"
  },
  "orig_nbformat": 4
 },
 "nbformat": 4,
 "nbformat_minor": 2
}
